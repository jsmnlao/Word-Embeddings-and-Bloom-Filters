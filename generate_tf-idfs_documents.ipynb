{
 "cells": [
  {
   "cell_type": "code",
   "execution_count": 1,
   "metadata": {},
   "outputs": [
    {
     "name": "stderr",
     "output_type": "stream",
     "text": [
      "[nltk_data] Downloading package stopwords to\n",
      "[nltk_data]     /Users/Yourui/nltk_data...\n",
      "[nltk_data]   Package stopwords is already up-to-date!\n",
      "[nltk_data] Downloading package wordnet to /Users/Yourui/nltk_data...\n",
      "[nltk_data]   Package wordnet is already up-to-date!\n"
     ]
    }
   ],
   "source": [
    "import contextlib\n",
    "import pandas as pd\n",
    "import nltk\n",
    "from nltk.tokenize import sent_tokenize\n",
    "from nltk.corpus import stopwords, wordnet\n",
    "import numpy as np\n",
    "import spacy\n",
    "import string\n",
    "import json\n",
    "\n",
    "nlp = spacy.load('en_core_web_sm', disable=['ner', 'parser'])\n",
    "POS = (\"CC\", \"CD\", \"DT\", \"EX\", \"FW\", \"IN\", \"JJ\", \"JJR\", \"JJS\", \"LS\", \"MD\", \"NN\", \"NNP\", \"NNPS\", \"NNS\", \"PDT\", \"PRP\", \"PRP$\", \"RB\", \"RBR\", \"RBS\", \"RP\", \"VB\", \"VBD\", \"VBG\", \"VBN\", \"VBP\", \"VBZ\", \"WDT\", \"WP\", \"WP$\", \"WRB\")\n",
    "\n",
    "def lemmatize(word):\n",
    "    token = nlp(str(word))[0]\n",
    "    lemma = token.lemma_\n",
    "    inflections = {token._.inflect(pos) for pos in POS}\n",
    "    return lemma, inflections\n",
    "\n",
    "def tokenize(sentence):\n",
    "    tokenized = nlp(sentence.translate(str.maketrans('', '', string.punctuation)))\n",
    "    return [token.lemma_ for token in tokenized if token.lemma_ not in en_stopwords and wordnet.synsets(token.lemma_)]\n",
    "\n",
    "nltk.download('stopwords')\n",
    "nltk.download('wordnet')\n",
    "en_stopwords = set(stopwords.words('english'))\n",
    "\n",
    "data = []\n",
    "for i in range (1, 1731):\n",
    "    with contextlib.suppress(FileNotFoundError):\n",
    "        with open(f'data/fairy_tales/{i}.txt', 'rb') as f:\n",
    "            data.append(f.read())"
   ]
  },
  {
   "cell_type": "code",
   "execution_count": 2,
   "metadata": {},
   "outputs": [],
   "source": [
    "# decoded_data = []\n",
    "# for i, row in enumerate(data):\n",
    "#     new_doc = \"\"\n",
    "    \n",
    "#     try:\n",
    "#         sentences = sent_tokenize(row.decode('cp1252').lower())\n",
    "#     except UnicodeDecodeError:\n",
    "#         sentences = sent_tokenize(row.decode('utf8').lower())\n",
    "#     for sentence in sentences:\n",
    "#         tokenized = tokenize(sentence)\n",
    "#         new_doc += \" \" + \" \".join(tokenized)\n",
    "    \n",
    "#     decoded_data.append(new_doc)\n",
    "#     print(f\"{i}th row processed\")\n",
    "\n",
    "# with open('data/fairytales_tokenized_lemmatized.json', 'w') as f:\n",
    "#     json.dump(decoded_data, f)"
   ]
  },
  {
   "cell_type": "code",
   "execution_count": 3,
   "metadata": {},
   "outputs": [],
   "source": [
    "with open('data/fairytales_tokenized_lemmatized.json', 'r') as f:\n",
    "    decoded_data = json.load(f)"
   ]
  },
  {
   "cell_type": "code",
   "execution_count": 4,
   "metadata": {},
   "outputs": [],
   "source": [
    "from sklearn.feature_extraction.text import TfidfTransformer, CountVectorizer\n",
    "\n",
    "cv = CountVectorizer()\n",
    "word_count_vector = cv.fit_transform(decoded_data)\n",
    "feature_names = cv.get_feature_names_out()\n",
    "\n",
    "tfidf_transformer = TfidfTransformer() \n",
    "tfidf_transformer.fit(word_count_vector)\n",
    "\n",
    "idfs = pd.DataFrame(tfidf_transformer.idf_, index=feature_names, columns=[\"idf_weights\"]).sort_values(by=['idf_weights'])\n",
    "\n",
    "count_vector = cv.transform(decoded_data)\n",
    "tf_idf_vector = np.asarray(tfidf_transformer.transform(count_vector).todense())"
   ]
  },
  {
   "cell_type": "code",
   "execution_count": 49,
   "metadata": {},
   "outputs": [],
   "source": [
    "json_tf_idfs = {f'doc{i}': dict(sorted({feature_names[j]: tf_idf_vector[i][j] for j in range(18249)\n",
    "                                        if tf_idf_vector[i][j] > 0}.items(), \n",
    "                                        key=lambda item: item[1], reverse=True))\n",
    "                for i in range(len(decoded_data))}"
   ]
  },
  {
   "cell_type": "code",
   "execution_count": 53,
   "metadata": {},
   "outputs": [],
   "source": [
    "with open('data/fairytales_doc_tf-idf.json', 'w') as f:\n",
    "    json.dump(json_tf_idfs, f, indent=4)"
   ]
  }
 ],
 "metadata": {
  "kernelspec": {
   "display_name": ".venv",
   "language": "python",
   "name": "python3"
  },
  "language_info": {
   "codemirror_mode": {
    "name": "ipython",
    "version": 3
   },
   "file_extension": ".py",
   "mimetype": "text/x-python",
   "name": "python",
   "nbconvert_exporter": "python",
   "pygments_lexer": "ipython3",
   "version": "3.12.5"
  }
 },
 "nbformat": 4,
 "nbformat_minor": 2
}
