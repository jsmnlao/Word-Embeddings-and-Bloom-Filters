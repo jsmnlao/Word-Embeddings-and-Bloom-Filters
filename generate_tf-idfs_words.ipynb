{
 "cells": [
  {
   "cell_type": "code",
   "execution_count": 1,
   "metadata": {},
   "outputs": [
    {
     "name": "stderr",
     "output_type": "stream",
     "text": [
      "/Users/Yourui/Documents/bloom-filters-jasmine/.venv/lib/python3.9/site-packages/urllib3/__init__.py:35: NotOpenSSLWarning: urllib3 v2 only supports OpenSSL 1.1.1+, currently the 'ssl' module is compiled with 'LibreSSL 2.8.3'. See: https://github.com/urllib3/urllib3/issues/3020\n",
      "  warnings.warn(\n",
      "[nltk_data] Downloading package punkt_tab to\n",
      "[nltk_data]     /Users/Yourui/nltk_data...\n",
      "[nltk_data]   Package punkt_tab is already up-to-date!\n",
      "[nltk_data] Downloading package stopwords to\n",
      "[nltk_data]     /Users/Yourui/nltk_data...\n",
      "[nltk_data]   Package stopwords is already up-to-date!\n",
      "[nltk_data] Downloading package wordnet to /Users/Yourui/nltk_data...\n",
      "[nltk_data]   Package wordnet is already up-to-date!\n"
     ]
    }
   ],
   "source": [
    "import contextlib\n",
    "from nltk.tokenize import sent_tokenize\n",
    "from nltk.corpus import stopwords, wordnet\n",
    "import contextlib\n",
    "import string\n",
    "import nltk\n",
    "import json\n",
    "\n",
    "import spacy\n",
    "import lemminflect\n",
    "nltk.download('punkt_tab')\n",
    "nlp = spacy.load('en_core_web_sm', disable=['ner', 'parser'])\n",
    "POS = (\"CC\", \"CD\", \"DT\", \"EX\", \"FW\", \"IN\", \"JJ\", \"JJR\", \"JJS\", \"LS\", \"MD\", \"NN\", \"NNP\", \"NNPS\", \"NNS\", \"PDT\", \"PRP\", \"PRP$\", \"RB\", \"RBR\", \"RBS\", \"RP\", \"VB\", \"VBD\", \"VBG\", \"VBN\", \"VBP\", \"VBZ\", \"WDT\", \"WP\", \"WP$\", \"WRB\")\n",
    "\n",
    "def lemmatize(word): # Takes a word and uses the spacy lemmatizer to return the lemmatized form\n",
    "    token = nlp(str(word))[0]\n",
    "    lemma = token.lemma_\n",
    "    inflections = {token._.inflect(pos) for pos in POS} # returns the inflection of the lemmatized token. (ex: run -> {'ran', 'run', 'runner', 'runnest', 'running', 'runs'} )\n",
    "    return lemma, inflections\n",
    "\n",
    "def tokenize(sentence): # Tokenizes a sentence and lemmatizes the words within\n",
    "    tokenized = nlp(sentence.translate(str.maketrans('', '', string.punctuation)))\n",
    "    return [token.lemma_ for token in tokenized if token.lemma_.lower() not in en_stopwords and wordnet.synsets(token.lemma_)] # disregards lemmatized token if it's in list of stopwords or not in english dictionary (wordnet)\n",
    "\n",
    "nltk.download('stopwords')\n",
    "nltk.download('wordnet')\n",
    "en_stopwords = set(stopwords.words('english'))\n",
    "\n",
    "data = [] # loads the datasets as binaries \n",
    "for i in range (1, 1731):\n",
    "    with contextlib.suppress(FileNotFoundError):\n",
    "        with open(f'data/fairy_tales/{i}.txt', 'r', encoding='ISO-8859-1') as f:\n",
    "            data.append(f.read())"
   ]
  },
  {
   "cell_type": "code",
   "execution_count": 2,
   "metadata": {},
   "outputs": [],
   "source": [
    "neighbor_frequencies = {}\n",
    "total_frequencies = {}\n",
    "tokenized_corpus = []\n",
    "deltas = [-4, -3, -2, -1, 1, 2, 3, 4]\n",
    "words_in_corpus = 0"
   ]
  },
  {
   "cell_type": "code",
   "execution_count": 3,
   "metadata": {},
   "outputs": [],
   "source": [
    "def update_total_frequencies(word): # updates the freq of word in the entire corpus\n",
    "    try:\n",
    "        total_frequencies[word] += 1\n",
    "    except KeyError:\n",
    "        total_frequencies[word] = 1 # if not in list already, add to list and set freq to 1\n",
    "\n",
    "def update_neighbor_frequencies(i, tokenized): # given a tokenized sentence, updates the freq of words next to the word at index i\n",
    "    if tokenized[i] not in neighbor_frequencies.keys(): # creates a dictionary for word at index i if it doesn't already exist\n",
    "        neighbor_frequencies[tokenized[i]] = {}\n",
    "    for delta in deltas: # for the 4 words before and after index i\n",
    "        if i + delta < 0: # skip wrap-arounds\n",
    "            continue\n",
    "        with contextlib.suppress(IndexError): # if a word at the 4 indices before and after i doesn't exist, just ignore\n",
    "            try:\n",
    "                neighbor_frequencies[tokenized[i]][tokenized[i+delta]] += 1\n",
    "            except KeyError:\n",
    "                neighbor_frequencies[tokenized[i]][tokenized[i+delta]] = 1"
   ]
  },
  {
   "cell_type": "code",
   "execution_count": 4,
   "metadata": {},
   "outputs": [],
   "source": [
    "for i, row in enumerate(data):\n",
    "    try: \n",
    "        sentences = sent_tokenize(row.lower()) # converts to lowercase, sent_tokenize tokenizes the document into individual sentences by punctuation\n",
    "    except UnicodeDecodeError:\n",
    "        sentences = sent_tokenize(row.lower())\n",
    "    \n",
    "    for sentence in sentences: # for each sentence in the document\n",
    "        tokenized = tokenize(sentence)\n",
    "        if len(tokenized) > 1: # drops 1-word sentences\n",
    "            tokenized_corpus.append(tokenized)\n",
    "            words_in_corpus += len(tokenized)\n",
    "            for token_index in range(len(tokenized)): # for each word (ex: 'trick' (see the first printed output)) in tokenized sentence, update the freq of the adjacent words ('long', 'ramble', 'belgium', 'storyteller', 'find' for that word)\n",
    "                update_total_frequencies(tokenized[token_index]) # updates the freq of the word at that index in the entire corpus (here, 'trick')\n",
    "                update_neighbor_frequencies(token_index, tokenized)\n",
    "\n",
    "n_neighbors = {word:sum(neighbor_frequencies[word].values()) for word in neighbor_frequencies.keys()}\n",
    "with open('data/n_neighbors.json', 'w') as f:\n",
    "    json.dump(n_neighbors, f)\n",
    "with open('data/neighbor_frequencies.json', 'w') as f:\n",
    "    json.dump(neighbor_frequencies, f)"
   ]
  },
  {
   "cell_type": "code",
   "execution_count": 8,
   "metadata": {},
   "outputs": [],
   "source": [
    "with open('data/n_neighbors.json', 'r') as f:\n",
    "    n_neighbors = json.load(f)\n",
    "with open('data/neighbor_frequencies.json', 'r') as f:\n",
    "    neighbor_frequencies = json.load(f)"
   ]
  },
  {
   "cell_type": "code",
   "execution_count": 52,
   "metadata": {},
   "outputs": [],
   "source": [
    "import copy\n",
    "import math\n",
    "tf_idfs = copy.deepcopy(neighbor_frequencies) # make copy of the relative frequencies json to convert frequencies to tf-idfs\n",
    "for word in neighbor_frequencies.keys(): # ex: \"queen\"\n",
    "    for neighbor in neighbor_frequencies[word].keys(): # The words next to \"queen\", i.e. \"lady\", \"fairy\", \"king\", etc.\n",
    "        tf_idfs[word][neighbor] = math.log(neighbor_frequencies[word][neighbor] / n_neighbors[word] * math.log(words_in_corpus / n_neighbors[neighbor]))\n",
    "\n",
    "for word in tf_idfs.keys():\n",
    "    tf_idfs[word] = dict(sorted(tf_idfs[word].items(), key=lambda item: item[1], reverse=True)) # sorts TF-IDFs in decreasing order"
   ]
  },
  {
   "cell_type": "code",
   "execution_count": null,
   "metadata": {},
   "outputs": [
    {
     "data": {
      "text/plain": [
       "np.int64(27968)"
      ]
     },
     "execution_count": 53,
     "metadata": {},
     "output_type": "execute_result"
    }
   ],
   "source": [
    "import pandas as pd\n",
    "import numpy as np\n",
    "dist = np.concat([list(x.values()) for x in tf_idfs.values()])\n",
    "df = pd.Series(dist)\n",
    "Q1 = df.quantile(0.25)\n",
    "Q3 = df.quantile(0.75)\n",
    "IQR = Q3 - Q1\n",
    "(df > (Q3 + 1.5 * IQR)).sum()"
   ]
  },
  {
   "cell_type": "code",
   "execution_count": 59,
   "metadata": {},
   "outputs": [
    {
     "data": {
      "text/plain": [
       "count    2.871242e+06\n",
       "mean    -4.928283e+00\n",
       "std      1.728402e+00\n",
       "min     -9.715406e+00\n",
       "25%     -6.144078e+00\n",
       "50%     -5.009849e+00\n",
       "75%     -3.843962e+00\n",
       "max      2.597717e+00\n",
       "dtype: float64"
      ]
     },
     "execution_count": 59,
     "metadata": {},
     "output_type": "execute_result"
    }
   ],
   "source": [
    "minimum = df.min()\n",
    "df.describe()"
   ]
  },
  {
   "cell_type": "code",
   "execution_count": 60,
   "metadata": {},
   "outputs": [],
   "source": [
    "for word in tf_idfs.keys():\n",
    "    for neighbor in tf_idfs[word].keys():\n",
    "        tf_idfs[word][neighbor] -= minimum"
   ]
  },
  {
   "cell_type": "code",
   "execution_count": 61,
   "metadata": {},
   "outputs": [],
   "source": [
    "with open('data/fairytales_word_tf-idfs.json', 'w') as f:\n",
    "    json.dump(tf_idfs, f, indent=4)\n",
    "with open('data/fairytales_tokenized.json', 'w') as f:\n",
    "    json.dump(tokenized_corpus, f, indent=4)"
   ]
  },
  {
   "cell_type": "code",
   "execution_count": 38,
   "metadata": {},
   "outputs": [],
   "source": [
    "import matplotlib.pyplot as plt\n",
    "def plot_tf_idf_distribution(tf_idfs, title, bounds=(0,1)):\n",
    "    all_values = []\n",
    "    for word in tf_idfs.keys():\n",
    "        all_values.extend(tf_idfs[word].values())\n",
    "\n",
    "    plt.figure(figsize=(10, 6))\n",
    "    plt.hist(all_values, bins=50, range=bounds, edgecolor='black')\n",
    "    plt.title(title)\n",
    "    plt.xlabel('TF-IDF')\n",
    "    plt.ylabel('Frequency')\n",
    "    plt.grid(True, alpha=0.3)\n",
    "    plt.show()"
   ]
  },
  {
   "cell_type": "code",
   "execution_count": 62,
   "metadata": {},
   "outputs": [
    {
     "data": {
      "image/png": "[encoded data removed]",
      "text/plain": [
       "<Figure size 1000x600 with 1 Axes>"
      ]
     },
     "metadata": {},
     "output_type": "display_data"
    }
   ],
   "source": [
    "plot_tf_idf_distribution(tf_idfs, 'TF-IDFs', bounds=(0, 13))"
   ]
  }
 ],
 "metadata": {
  "kernelspec": {
   "display_name": ".venv",
   "language": "python",
   "name": "python3"
  },
  "language_info": {
   "codemirror_mode": {
    "name": "ipython",
    "version": 3
   },
   "file_extension": ".py",
   "mimetype": "text/x-python",
   "name": "python",
   "nbconvert_exporter": "python",
   "pygments_lexer": "ipython3",
   "version": "3.9.6"
  }
 },
 "nbformat": 4,
 "nbformat_minor": 2
}
