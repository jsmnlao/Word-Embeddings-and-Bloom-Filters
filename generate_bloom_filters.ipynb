{
 "cells": [
  {
   "cell_type": "code",
   "execution_count": null,
   "metadata": {},
   "outputs": [],
   "source": [
    "import mmh3\n",
    "\n",
    "def bloom_filter(word, bits=32): # 16 distinct values\n",
    "    array = [0] * bits\n",
    "    encoding = mmh3.hash(word)\n",
    "    i = 31\n",
    "    while encoding > 0:\n",
    "        remainder = encoding % 2\n",
    "        array[i] = remainder\n",
    "        i -= 1\n",
    "        encoding //= 2\n",
    "    return array"
   ]
  },
  {
   "cell_type": "code",
   "execution_count": 2,
   "metadata": {},
   "outputs": [],
   "source": [
    "import json\n",
    "with open('data/fairytales_tokenized.json', 'r') as f:\n",
    "    tokenized_corpus = json.load(f)\n",
    "bloom_filters = {}\n",
    "for sentence in tokenized_corpus:\n",
    "    for word in sentence:\n",
    "        if word not in bloom_filters:\n",
    "            bloom_filters[word] = bloom_filter(word)"
   ]
  },
  {
   "cell_type": "code",
   "execution_count": 3,
   "metadata": {},
   "outputs": [],
   "source": [
    "with open('data/fairytales_word_bloom-filters.json', 'w') as f:\n",
    "    json.dump(bloom_filters, f)"
   ]
  }
 ],
 "metadata": {
  "kernelspec": {
   "display_name": ".venv",
   "language": "python",
   "name": "python3"
  },
  "language_info": {
   "codemirror_mode": {
    "name": "ipython",
    "version": 3
   },
   "file_extension": ".py",
   "mimetype": "text/x-python",
   "name": "python",
   "nbconvert_exporter": "python",
   "pygments_lexer": "ipython3",
   "version": "3.9.6"
  }
 },
 "nbformat": 4,
 "nbformat_minor": 2
}
