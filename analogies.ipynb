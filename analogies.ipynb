{
 "cells": [
  {
   "cell_type": "code",
   "execution_count": 26,
   "id": "03518b81",
   "metadata": {},
   "outputs": [],
   "source": [
    "import json\n",
    "with open('data/iterative_vectors/0.json') as f:\n",
    "    vectors = json.load(f)"
   ]
  },
  {
   "cell_type": "code",
   "execution_count": 27,
   "id": "6c6553ae",
   "metadata": {},
   "outputs": [
    {
     "name": "stdout",
     "output_type": "stream",
     "text": [
      "capital-common-countries.txt:\n",
      "ACCURACY TOP1: 0.00% (0/90)\n",
      "capital-world.txt:\n",
      "ACCURACY TOP1: 0.00% (0/85)\n",
      "currency.txt:\n",
      "ACCURACY TOP1: 0.00% (0/20)\n",
      "city-in-state.txt:\n",
      "ACCURACY TOP1: 0.00% (0/11)\n",
      "family.txt:\n",
      "ACCURACY TOP1: 3.68% (10/272)\n",
      "gram1-adjective-to-adverb.txt:\n",
      "ACCURACY TOP1: 0.00% (0/650)\n",
      "gram2-opposite.txt:\n",
      "ACCURACY TOP1: 0.00% (0/240)\n",
      "gram3-comparative.txt:\n",
      "ACCURACY TOP1: 0.00% (0/182)\n",
      "gram4-superlative.txt:\n",
      "ACCURACY TOP1: 0.00% (0/56)\n",
      "gram5-present-participle.txt:\n",
      "ACCURACY TOP1: 0.00% (0/462)\n",
      "gram6-nationality-adjective.txt:\n",
      "ACCURACY TOP1: 0.47% (3/633)\n",
      "gram7-past-tense.txt:\n",
      "ACCURACY TOP1: 0.00% (0/306)\n",
      "gram8-plural.txt:\n",
      "ACCURACY TOP1: 0.00% (0/42)\n",
      "ERROR: no lines of vocab kept for gram9-plural-verbs.txt !\n",
      "Example missing line: ['decrease', 'decreases', 'describe', 'describes']\n",
      "Questions seen/total: 15.60% (3049/19544)\n",
      "Semantic accuracy: 2.09%  (10/478)\n",
      "Syntactic accuracy: 0.12%  (3/2571)\n",
      "Total accuracy: 0.43%  (13/3049)\n"
     ]
    }
   ],
   "source": [
    "import numpy as np\n",
    "from eval.evaluate import evaluate_vectors\n",
    "vkeys = list(vectors.keys())\n",
    "\n",
    "evaluate_vectors(\n",
    "    W=np.array(list(vectors.values())),\n",
    "    vocab={vkeys[i]:i for i in range(len(vkeys))},\n",
    ")"
   ]
  }
 ],
 "metadata": {
  "kernelspec": {
   "display_name": ".venv",
   "language": "python",
   "name": "python3"
  },
  "language_info": {
   "codemirror_mode": {
    "name": "ipython",
    "version": 3
   },
   "file_extension": ".py",
   "mimetype": "text/x-python",
   "name": "python",
   "nbconvert_exporter": "python",
   "pygments_lexer": "ipython3",
   "version": "3.9.6"
  }
 },
 "nbformat": 4,
 "nbformat_minor": 5
}
